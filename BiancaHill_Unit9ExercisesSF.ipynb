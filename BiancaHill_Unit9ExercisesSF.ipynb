{
  "nbformat": 4,
  "nbformat_minor": 0,
  "metadata": {
    "colab": {
      "provenance": [],
      "include_colab_link": true
    },
    "kernelspec": {
      "name": "python3",
      "display_name": "Python 3"
    },
    "language_info": {
      "name": "python"
    }
  },
  "cells": [
    {
      "cell_type": "markdown",
      "metadata": {
        "id": "view-in-github",
        "colab_type": "text"
      },
      "source": [
        "<a href=\"https://colab.research.google.com/github/BiancaHill/Data-Science/blob/main/BiancaHill_Unit9ExercisesSF.ipynb\" target=\"_parent\"><img src=\"https://colab.research.google.com/assets/colab-badge.svg\" alt=\"Open In Colab\"/></a>"
      ]
    },
    {
      "cell_type": "markdown",
      "source": [
        "# Unit 9 Exercises: Matrix Multiplication is all you need?\n",
        "\n",
        "We won't just talk about matrix multiplication in these exercises: we'll also play with a neuarl network visualization in order to get some intuition on how to properly parameratize neural networks."
      ],
      "metadata": {
        "id": "_AryvPXMCLY0"
      }
    },
    {
      "cell_type": "markdown",
      "source": [
        "**Task1**:\n",
        "\n",
        "Play with the web app at this [link](http://matrixmultiplication.xyz/).\n",
        "\n",
        "Explain what happens when we do matrix multiplication.\n",
        "\n",
        "Yes, I know I basically already asked you to do this in the notes. Don't copy and paste your anwser from before; honestly do the exercise again."
      ],
      "metadata": {
        "id": "p1alkQDKCfg8"
      }
    },
    {
      "cell_type": "markdown",
      "source": [
        "When we do matrix multiplication, we multiply one matrix by the flip of the other. So, the columns of the first matrix will be multiplied by the rows of the other. The resulting matrix will be each number is adding up the multiplicaiton of column and rows and has the number of rows of the first and the number of columns of the second matrix."
      ],
      "metadata": {
        "id": "CkMGtCcEnZeF"
      }
    },
    {
      "cell_type": "markdown",
      "source": [
        "**Task2**:\n",
        "\n",
        "Look at code for any neural network, such as my notes, or any other source.\n",
        "\n",
        "1. Point out where in the code the neural network is multiplying matricies.\n",
        "\n",
        "2. Conceptually, what part of a neural network is that matrix multiplication that you pointed out?\n",
        "In other words, what does matrix multiplication do for a neural network?"
      ],
      "metadata": {
        "id": "JK1wkGSwC7nW"
      }
    },
    {
      "cell_type": "markdown",
      "source": [
        "1. y_pred = linear(X)\n",
        "\n",
        "2. Matrix multiplication performs the weighted sum of inputs to a neuron. In the equation (see below), in a neural network, the matrix multiplicaition is doing the W^T part. In other words, it transforms input data using learned weights. In the code, it takes the linear function we've defined which defines the requirements of matrix multiplication. The line that does the actual matrix multiplication inputs X (our data) into that definition, forcing our data to perform the matrix multiplicaition."
      ],
      "metadata": {
        "id": "NCl7FgS8onk4"
      }
    },
    {
      "cell_type": "markdown",
      "source": [
        "![image.png](data:image/png;base64,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)"
      ],
      "metadata": {
        "id": "EeR8saTmtc90"
      }
    },
    {
      "cell_type": "markdown",
      "source": [
        "**Task3**:\n",
        "\n",
        "Go to the [TensorFlow Playground website](https://playground.tensorflow.org/#activation=tanh&batchSize=10&dataset=circle&regDataset=reg-plane&learningRate=0.03&regularizationRate=0&noise=0&networkShape=4,2&seed=0.16540&showTestData=false&discretize=false&percTrainData=50&x=true&y=true&xTimesY=false&xSquared=false&ySquared=false&cosX=false&sinX=false&cosY=false&sinY=false&collectStats=false&problem=classification&initZero=false&hideText=false).\n",
        "\n",
        "Explain what part of the neural network visualization is matrix multiplication."
      ],
      "metadata": {
        "id": "cUQQ_t5wEtD0"
      }
    },
    {
      "cell_type": "markdown",
      "source": [
        "The part of the visualization that is doing the matrix multiplication is the layers. The features are the data we're inputing, and every new layer we add is another matrix it gets multiplied by, increasing how complicated the model is. It's then spit out in the output visualization, the final matrix multiplication. Adding more neutons to each layer makes it so that you are applying the input (matrix 1) to more numbers in each layer (matrix 2).  "
      ],
      "metadata": {
        "id": "5QAQn6XIvr0O"
      }
    },
    {
      "cell_type": "markdown",
      "source": [
        "**Task4**:\n",
        "\n",
        "Go to the [TensorFlow Playground website](https://playground.tensorflow.org/#activation=tanh&batchSize=10&dataset=circle&regDataset=reg-plane&learningRate=0.03&regularizationRate=0&noise=0&networkShape=4,2&seed=0.16540&showTestData=false&discretize=false&percTrainData=50&x=true&y=true&xTimesY=false&xSquared=false&ySquared=false&cosX=false&sinX=false&cosY=false&sinY=false&collectStats=false&problem=classification&initZero=false&hideText=false).\n",
        "\n",
        "Set up the scenario with the following characteristics:\n",
        "\n",
        "- problem type: regression\n",
        "- Data: multi guassian\n",
        "- Ratio: 80% training\n",
        "- Noise: 20\n",
        "- Batch size: 15\n",
        "- Discretize output: start with it checked on\n",
        "\n",
        "You may turn discretize output on or off once you get an idea of what to do, so you can see what each node is doing.\n",
        "\n",
        "Goal: get your test loss to under **0.03**.\n",
        "\n",
        "You may change any of the other parameters that I didn't explicitly tell you to set up. Remember to use the back/restart button inbetween model adjustments.\n",
        "\n",
        "Your answer will be a link to the model you created. How do you get that link? Once you've achieved the appropriate test loss, copy and paste the url."
      ],
      "metadata": {
        "id": "8sYleMUZDKDg"
      }
    },
    {
      "cell_type": "markdown",
      "source": [
        "https://playground.tensorflow.org/#activation=tanh&batchSize=15&dataset=circle&regDataset=reg-gauss&learningRate=0.03&regularizationRate=0&noise=20&networkShape=4,3,2,2&seed=0.95036&showTestData=false&discretize=false&percTrainData=80&x=true&y=true&xTimesY=false&xSquared=false&ySquared=false&cosX=false&sinX=false&cosY=false&sinY=false&collectStats=false&problem=regression&initZero=false&hideText=false"
      ],
      "metadata": {
        "id": "2rTpLUfW3xJK"
      }
    },
    {
      "cell_type": "markdown",
      "source": [
        "**Task5**:\n",
        "\n",
        "Go to the [TensorFlow Playground website](https://playground.tensorflow.org/#activation=tanh&batchSize=10&dataset=circle&regDataset=reg-plane&learningRate=0.03&regularizationRate=0&noise=0&networkShape=4,2&seed=0.16540&showTestData=false&discretize=false&percTrainData=50&x=true&y=true&xTimesY=false&xSquared=false&ySquared=false&cosX=false&sinX=false&cosY=false&sinY=false&collectStats=false&problem=classification&initZero=false&hideText=false).\n",
        "\n",
        "Set up the scenario with the following characteristics:\n",
        "\n",
        "- problem type: classification\n",
        "- Data: circle\n",
        "- Ratio: 80% training\n",
        "- Noise: 0\n",
        "- Batch size: 15\n",
        "\n",
        "Goal: get your test loss to under **0.005**.\n",
        "\n",
        "You may change any of the other parameters that I didn't explicitly tell you to set up. Remember to use the back/restart button inbetween model adjustments.\n",
        "\n",
        "Your answer will be a link to the model you created. How do you get that link? Once you've achieved the appropriate test loss, copy and paste the url."
      ],
      "metadata": {
        "id": "4Pan5Q-XJDpe"
      }
    },
    {
      "cell_type": "markdown",
      "source": [
        "https://playground.tensorflow.org/#activation=tanh&batchSize=15&dataset=circle&regDataset=reg-plane&learningRate=0.03&regularizationRate=0&noise=0&networkShape=4,2&seed=0.96336&showTestData=false&discretize=false&percTrainData=80&x=true&y=true&xTimesY=false&xSquared=false&ySquared=false&cosX=false&sinX=false&cosY=false&sinY=false&collectStats=false&problem=classification&initZero=false&hideText=false"
      ],
      "metadata": {
        "id": "2At0fzch5Dlj"
      }
    },
    {
      "cell_type": "markdown",
      "source": [
        "**Task6**:\n",
        "\n",
        "Go to the [TensorFlow Playground website](https://playground.tensorflow.org/#activation=tanh&batchSize=10&dataset=circle&regDataset=reg-plane&learningRate=0.03&regularizationRate=0&noise=0&networkShape=4,2&seed=0.16540&showTestData=false&discretize=false&percTrainData=50&x=true&y=true&xTimesY=false&xSquared=false&ySquared=false&cosX=false&sinX=false&cosY=false&sinY=false&collectStats=false&problem=classification&initZero=false&hideText=false).\n",
        "\n",
        "Set up the scenario with the following characteristics:\n",
        "\n",
        "- problem type: classification\n",
        "- Data: spiral\n",
        "- Ratio: 80% training\n",
        "- Noise: 20\n",
        "- Batch size: 15\n",
        "\n",
        "Goal: get your test loss to under **0.05**.\n",
        "\n",
        "You may change any of the other parameters that I didn't explicitly tell you to set up. Remember to use the back/restart button inbetween model adjustments.\n",
        "\n",
        "Your answer will be a link to the model you created. How do you get that link? Once you've achieved the appropriate test loss, copy and paste the url."
      ],
      "metadata": {
        "id": "AKuSgkjWLlwL"
      }
    },
    {
      "cell_type": "markdown",
      "source": [
        "https://playground.tensorflow.org/#activation=tanh&batchSize=15&dataset=spiral&regDataset=reg-gauss&learningRate=0.1&regularizationRate=0&noise=20&networkShape=5,3&seed=0.57881&showTestData=false&discretize=false&percTrainData=80&x=true&y=true&xTimesY=false&xSquared=false&ySquared=false&cosX=false&sinX=true&cosY=false&sinY=true&collectStats=false&problem=classification&initZero=false&hideText=false"
      ],
      "metadata": {
        "id": "_w1Ime3qrEwH"
      }
    }
  ]
}